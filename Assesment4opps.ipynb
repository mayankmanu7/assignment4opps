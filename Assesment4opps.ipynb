{
  "nbformat": 4,
  "nbformat_minor": 0,
  "metadata": {
    "colab": {
      "provenance": []
    },
    "kernelspec": {
      "name": "python3",
      "display_name": "Python 3"
    },
    "language_info": {
      "name": "python"
    }
  },
  "cells": [
    {
      "cell_type": "code",
      "execution_count": null,
      "metadata": {
        "id": "Sztd8G7HU4YB"
      },
      "outputs": [],
      "source": []
    },
    {
      "cell_type": "markdown",
      "source": [
        "Q1. What is Object-Oriented Programming(OOP)?\n",
        " Definition\n",
        " Object-Oriented Programming (OOP) is a programming paradigm based on the concept of “objects”, which can contain data (attributes) and\n",
        " code (methods).\n",
        " It focuses on organizing software into reusable, modular pieces instead of writing code in a linear (procedural) way.\n",
        " Key Concepts of OOP\n",
        " 1. Class\n",
        "→\n",
        " Blueprint/template for creating objects.\n",
        " 2. Object\n",
        "→\n",
        " Instance of a class (real-world entity).\n",
        " 3. Encapsulation\n",
        "→\n",
        " Binding data and methods together in a single unit.\n",
        " 4. Abstraction\n",
        "→\n",
        " Hiding unnecessary details and showing only the essential features.\n",
        " 5. Inheritance\n",
        "→\n",
        " One class can acquire properties and methods of another class.\n",
        " 6. Polymorphism\n",
        "→\n",
        " Ability to use the same interface with different forms (method overriding & overloading).\n",
        " Example in Python\n",
        " # Class (Blueprint)\n",
        " class Car:\n",
        " def __init__(self, brand, model):\n",
        " self.brand = brand   # Attribute\n",
        " self.model = model\n",
        " def display_info(self):   # Method\n",
        " return f\"Car: {self.brand} {self.model}\"\n",
        " # Object (Instance of Class)\n",
        " car1 = Car(\"Tesla\", \"Model S\")\n",
        " car2 = Car(\"BMW\", \"X5\")\n",
        " print(car1.display_info())   \n",
        "print(car2.display_info())   \n",
        "# Output Car: Tesla Model"
      ],
      "metadata": {
        "id": "85V1Ai20VEh4"
      }
    },
    {
      "cell_type": "markdown",
      "source": [
        " Q2. What is a Class in OOP?\n",
        " A class in Object-Oriented Programming (OOP) is a blueprint or template that defines how to create objects.\n",
        " It describes the attributes (data/properties) and methods (functions/behaviors) that the objects of that class will have.\n",
        " Key Points about Classes:\n",
        " 1. Blueprint Concept\n",
        " Think of a class as a design/plan.\n",
        " Example: An architect draws a blueprint of a house\n",
        "→\n",
        " but the actual house is built later.\n",
        " 2. Objects are Instances\n",
        " Objects are real, usable things created from the class.\n",
        " Example: If\n",
        "Car\n",
        " is a class (blueprint), then\n",
        "Tesla\n",
        " or\n",
        "BMW\n",
        " are actual objects (real cars).\n",
        " 3. Encapsulation of Data + Behavior\n",
        " Classes combine attributes (variables) and methods (functions) into one unit.\n",
        " Example: A\n",
        "Car\n",
        " has attributes like\n",
        "brand\n",
        " ,\n",
        "model\n",
        " and methods like\n",
        "start()\n",
        " ,\n",
        "brake()\n",
        " .\n",
        " 4. Reusability\n",
        " Once a class is defined, you can create multiple objects without rewriting code.\n",
        "  Example in Python:\n",
        " # Defining a class\n",
        " class Car:\n",
        "    # Constructor (__init__) to initialize attributes\n",
        "    def __init__(self, brand, model):\n",
        "        self.brand = brand      # attribute (variable)\n",
        "        self.model = model      # attribute (variable)\n",
        "    \n",
        "    # Method (function inside class)\n",
        "    def display_info(self):\n",
        "        return f\"{self.brand} {self.model}\"\n",
        " # Creating objects (instances of the class)\n",
        " car1 = Car(\"Tesla\", \"Model S\")\n",
        " car2 = Car(\"BMW\", \"X5\")\n",
        " # Using object methods\n",
        " print(car1.display_info())  # Output: Tesla Model S\n",
        " print(car2.display_info())  # Output: BMW X5"
      ],
      "metadata": {
        "id": "ETpNUhdtVQ8Y"
      }
    },
    {
      "cell_type": "markdown",
      "source": [
        " Q3. What is an Object in OOP?\n",
        "  An object in Object-Oriented Programming (OOP) is a real-world entity or an instance of a class.\n",
        " It represents something that has state (data/attributes) and behavior (methods/functions).\n",
        " Key Points about Objects:\n",
        " 1. Instance of a Class\n",
        " A class is like a blueprint, and an object is the actual product created from that blueprint.\n",
        " Example: If\n",
        "Car\n",
        " is a class, then\n",
        "Tesla Model S\n",
        " or\n",
        "BMW X5\n",
        " are objects.\n",
        " 2. Has State and Behavior\n",
        " State (attributes/variables): Describes the properties of the object.\n",
        " e.g.,\n",
        "color = red\n",
        " ,\n",
        "speed = 120\n",
        " .\n",
        " Behavior (methods/functions): Describes what the object can do.\n",
        " e.g.,\n",
        "drive()\n",
        " ,\n",
        "brake()\n",
        " .\n",
        " 3. Multiple Objects from One Class\n",
        " You can create many objects from the same class, each with its own data.\n",
        " Example:\n",
        "car1\n",
        " ,\n",
        "car2\n",
        " ,\n",
        "car3\n",
        " all come from the\n",
        "Car\n",
        " class but can have different brands and models.\n",
        " Example in Python:\n",
        " # Class definition\n",
        " class Car:\n",
        "    def __init__(self, brand, color):\n",
        "        self.brand = brand      # attribute\n",
        "        self.color = color      # attribute\n",
        "    \n",
        "    def drive(self):            # method\n",
        "        return f\"{self.brand} car is driving!\"\n",
        " # Creating objects (instances of Car)\n",
        " car1 = Car(\"Tesla\", \"Red\")\n",
        " car2 = Car(\"BMW\", \"Black\")\n",
        " # Accessing attributes and methods\n",
        " print(car1.brand)         # Output: Tesla\n",
        " print(car2.color)         # Output: Black\n",
        " print(car1.drive())       # Output: Tesla car is driving\n"
      ],
      "metadata": {
        "id": "9Kn6im5QVkvr"
      }
    },
    {
      "cell_type": "markdown",
      "source": [
        "Q4. What is the Difference between Abstraction and Encapsulation?\n",
        "Both Abstraction and Encapsulation are key concepts of Object-Oriented Programming (OOP).\n",
        " They sound similar but serve different purposes.\n",
        " 1. Abstraction\n",
        " Definition:\n",
        " Abstraction is the process of hiding implementation details and showing only the essential features of an object.\n",
        " Focus:What an object does (not how it does it).\n",
        " Achieved by:\n",
        " Abstract classes\n",
        " Interfaces\n",
        " Example in Real Life:\n",
        " When you drive a car, you only know about the steering wheel, accelerator, brakes (essential features).\n",
        " You don’t need to know the complex implementation of the engine or gear mechanism.\n",
        " 2. Encapsulation\n",
        " Definition:\n",
        " Encapsulation is the process of wrapping data (attributes) and methods (functions) into a single unit (class).\n",
        " It also restricts direct access to some data using access modifiers (\n",
        " private\n",
        " ,\n",
        "protected\n",
        " ,\n",
        "public\n",
        " ).\n",
        " Focus:How the data is hidden/protected.\n",
        " Achieved by:\n",
        " Using classes\n",
        " Access modifiers (\n",
        " _protected\n",
        " ,\n",
        "__private\n",
        " ) in Python\n",
        " Example in Real Life:\n",
        " A capsule medicine wraps several ingredients inside one capsule shell.\n",
        " You don’t see or touch the ingredients directly.\n",
        " Tabular Difference:\n",
        " Feature Abstraction Encapsulation\n",
        " Definition Hides implementation details, shows only essential features. Bundles data and methods together, hides data from direct access.\n",
        " Focus What an object does. How the data is hidden/protected.\n",
        " Achieved using Abstract classes, Interfaces. Classes, Access Modifiers.\n",
        " Real-Life Example Car Driver only sees pedals & steering (not engine details). Capsule wraps medicine inside.\n",
        " Example in Python\n",
        " from abc import ABC, abstractmethod\n",
        " # Abstraction Example\n",
        " class Vehicle(ABC):\n",
        "    @abstractmethod\n",
        "    def start(self):\n",
        "        pass\n",
        " class Car(Vehicle):\n",
        "    def start(self):\n",
        "        return \"Car engine starts with a key!\"\n",
        " # Encapsulation Example\n",
        " class Account:\n",
        "    def __init__(self, balance):\n",
        "        self.__balance = balance   # private variable\n",
        "    def deposit(self, amount):\n",
        "        self.__balance += amount\n",
        "    def get_balance(self):\n",
        "        return self.__balanc\n"
      ],
      "metadata": {
        "id": "US2XrJ0FV0Y1"
      }
    },
    {
      "cell_type": "markdown",
      "source": [
        "Q5. What are Dunder Methods in Python?\n",
        " Definition:\n",
        " Dunder methods (short for “Double UNDERSCORE”) are special methods in Python.\n",
        " They always start and end with double underscores like\n",
        "__init__\n",
        " ,\n",
        "__str__\n",
        " ,\n",
        "__len__\n",
        " .\n",
        " Also called magic methods because they add extra functionality to classes and objects.\n",
        " Purpose of Dunder Methods:\n",
        " To make classes behave like built-in types.\n",
        " To customize operators (like\n",
        "+\n",
        " ,\n",
        ",\n",
        "<\n",
        " , etc.) for user-defined classes.\n",
        " To define object creation, representation, comparison, arithmetic, etc.\n",
        " Commonly Used Dunder Methods:\n",
        " Dunder Method Purpose\n",
        " __init__\n",
        " Constructor\n",
        "→\n",
        " Initializes an object.\n",
        " __str__\n",
        " Returns a string representation of the object (used with\n",
        "print()\n",
        " ).\n",
        " __repr__\n",
        " Official representation of the object (useful for debugging).\n",
        " __len__\n",
        " Defines behavior for\n",
        "len(obj)\n",
        " .\n",
        " __add__\n",
        " Defines behavior for\n",
        "+\n",
        " operator.\n",
        " __eq__\n",
        " Defines behavior for\n",
        "==\n",
        " operator.\n",
        " __getitem__\n",
        " Defines behavior for indexing\n",
        "obj[i]\n",
        " .\n",
        " __call__\n",
        " Makes an object callable like a function.\n",
        " Example in Python\n",
        " class Book:\n",
        "    def __init__(self, title, pages):\n",
        "        self.title = title\n",
        "        self.pages = pages\n",
        "    def __str__(self):   # For print()\n",
        "        return f\"Book: {self.title}, Pages: {self.pages}\"\n",
        "    def __len__(self):   # For len()\n",
        "        return self.pages\n",
        "    def __add__(self, other):  # For +\n",
        "        return self.pages + other.pages\n",
        " # Creating objects\n",
        " book1 = Book(\"Python Basics\", 250)\n",
        " book2 = Book(\"Advanced Python\", 350)\n",
        " print(book1)          # Uses __str__ → Book: Python Basics, Pages: 250\n",
        " print(len(book1))     # Uses __len__ → 250\n",
        " print(book1 + book2)  # Uses __add__ → 600"
      ],
      "metadata": {
        "id": "tbtyu700WIP8"
      }
    },
    {
      "cell_type": "markdown",
      "source": [
        " Q6. Explain the Concept of Inheritance in OOP?\n",
        " Inheritance is an Object-Oriented Programming (OOP) concept where a class (child/derived class) can reuse the properties and\n",
        " methods of another class (parent/base class).\n",
        " It allows code reusability and represents an “is-a” relationship between classes.\n",
        " Key Points:\n",
        " 1. The child class inherits data members (variables) and methods (functions) from the parent class.\n",
        " 2. The child class can:\n",
        " Use parent class features as they are.\n",
        " Override parent methods to change behavior.\n",
        " Add new methods or attributes of its own.\n",
        " 3. Helps in writing clean, reusable, and maintainable code.\n",
        " Types of Inheritance in Python:\n",
        " 1. Single Inheritance\n",
        "→\n",
        " One child inherits from one parent.\n",
        " 2. Multiple Inheritance\n",
        "→\n",
        " A child inherits from more than one parent.\n",
        " 3. Multilevel Inheritance\n",
        "→\n",
        " A child inherits from a parent, which in turn inherits from another class.\n",
        " 4. Hierarchical Inheritance\n",
        "→\n",
        " Multiple child classes inherit from the same parent.\n",
        " 5. Hybrid Inheritance\n",
        "→\n",
        " Combination of multiple inheritance types.\n",
        " Example in Python\n",
        " # Parent Class\n",
        " class Animal:\n",
        "    def speak(self):\n",
        "        return \"This animal makes a sound.\"\n",
        " # Child Class\n",
        " class Dog(Animal):\n",
        "    def speak(self):   # Overriding parent method\n",
        "        return \"Woof! Woof!\"\n",
        " # Another Child Class\n",
        " class Cat(Animal):\n",
        "    def speak(self):\n",
        "        return \"Meow!\"\n",
        " # Using the classes\n",
        " dog = Dog()\n",
        " cat = Cat()\n",
        " print(dog.speak())  # Output: Woof! Woof!\n",
        " print(cat.speak())  # Output: Meow!"
      ],
      "metadata": {
        "id": "iXq3KtH9WTq6"
      }
    },
    {
      "cell_type": "markdown",
      "source": [],
      "metadata": {
        "id": "TRI7h9WJWc24"
      }
    },
    {
      "cell_type": "markdown",
      "source": [],
      "metadata": {
        "id": "NGVFzFRoWoUm"
      }
    },
    {
      "cell_type": "markdown",
      "source": [
        "Q7. What is Polymorphism in OOP?\n",
        "\n",
        " Definition:\n",
        " The word Polymorphism comes from Greek:\n",
        " Poly = many\n",
        " Morph = forms\n",
        " In OOP, Polymorphism means the ability of different classes to respond to the same method name in different ways.\n",
        " It allows a single function, operator, or method to have multiple implementations.\n",
        " Key Idea:\n",
        " One interface, multiple implementations.\n",
        " The exact behavior depends on the object that is calling the method.\n",
        " Types of Polymorphism in Python:\n",
        " 1. Compile-time Polymorphism (Overloading)\n",
        "\n",
        " Having multiple methods with the same name but different arguments.\n",
        " Note: Python doesn’t support traditional overloading, but we can achieve similar behavior using default arguments or\n",
        "*args\n",
        " .\n",
        " 2. Run-time Polymorphism (Overriding)\n",
        " When a child class provides its own implementation of a method already defined in the parent class.\n",
        " Example 1: Method Overriding (Run-time Polymorphism)\n",
        " class Animal:\n",
        "    def speak(self):\n",
        "        return \"Some sound\"\n",
        " class Dog(Animal):\n",
        "    def speak(self):\n",
        "        return \"Woof!\"\n",
        " class Cat(Animal):\n",
        "    def speak(self):\n",
        "        return \"Meow!\"\n",
        " # Same method name → different outputs\n",
        " animals = [Dog(), Cat(), Animal()]\n",
        " for a in animals:\n",
        "    print(a.speak())\n",
        " # Output\n",
        " Woof!\n",
        " Meow!\n",
        " Some sound\n",
        " Example 2: Polymorphism with Built-in Functions\n",
        " print(len(\"Ritesh\"))      # len() works with string → 6\n",
        " print(len([1, 2, 3, 4]))  # len() works with list   → 4"
      ],
      "metadata": {
        "id": "GXUtHJwlWtOK"
      }
    },
    {
      "cell_type": "markdown",
      "source": [
        " Q8. How is Encapsulation achieved in Python?\n",
        "\n",
        " Definition Recap:\n",
        " Encapsulation = wrapping up data (variables) and methods (functions) into a single unit (class).\n",
        " It also helps in restricting direct access to data by using access modifiers.\n",
        " Ways to Achieve Encapsulation in Python:\n",
        " 1. Using Classes\n",
        " Class binds data (attributes) and methods together.\n",
        " Example: A\n",
        "Car\n",
        " class containing both\n",
        "speed\n",
        " and\n",
        "drive()\n",
        " .\n",
        " 2. Access Modifiers in Python\n",
        " Python does not have strict private/protected keywords like Java or C++,\n",
        " but it achieves encapsulation through naming conventions:\n",
        " Public (default): Accessible everywhere.\n",
        " class Car:\n",
        "    def __init__(self):\n",
        "        self.color = \"Red\"  # Public attribute\n",
        " car = Car()\n",
        " print(car.color)  # Accessible\n",
        " Protected (\n",
        " _var\n",
        " ): Should not be accessed directly outside class (convention)\n",
        " class Car:\n",
        "    def __init__(self):\n",
        "        self._speed = 120  # Protected\n",
        " car = Car()\n",
        " print(car._speed)  # Possible, but discouraged\n",
        " Private (\n",
        " __var\n",
        " ): Name mangling makes it harder to access from outside.\n",
        " class Car:\n",
        "    def __init__(self):\n",
        "        self.__engine_number = \"ENG123\"  # Private\n",
        " car = Car()\n",
        " # print(car.__engine_number)   Error\n",
        " print(car._Car__engine_number)  #  Access through name mangling\n",
        " 3. Getter and Setter Methods\n",
        " Used to safely access or modify private variables.\n",
        " class BankAccount:\n",
        "    def __init__(self, balance):\n",
        "        self.__balance = balance  # Private variable\n",
        "    # Getter\n",
        "    def get_balance(self):\n",
        "        return self.__balance\n",
        "    # Setter\n",
        "    def set_balance(self, amount):\n",
        "        if amount >= 0:\n",
        "            self.__balance = amount\n",
        "        else:\n",
        "            print(\"Invalid amount!\")\n",
        " acc = BankAccount(500)\n",
        " print(acc.get_balance())   #  500\n",
        " acc.set_balance(1000)      #  updates balance\n",
        " print(acc.get_balance())   #  1000\n"
      ],
      "metadata": {
        "id": "VV-eGZWCXEP4"
      }
    },
    {
      "cell_type": "markdown",
      "source": [
        " Q9. What is a Constructor in Python?\n",
        "\n",
        "  Definition:\n",
        " A constructor in Python is a special method that is automatically called when an object of a class is created.\n",
        " Its main job is to initialize the attributes (data members) of the object.\n",
        " In Python:\n",
        " The constructor method is always written as:\n",
        " def __init__(self, arguments):\n",
        "    # initialization code\n",
        " Note :- __init__ is a dunder method (double underscore)\n",
        "        self parameter refers to the current instance of the class\n",
        " ### Example 1: Simple Constructor\n",
        " ```python\n",
        " class Student:\n",
        "    def __init__(self, name, age):  # constructor\n",
        "        self.name = name\n",
        "        self.age = age\n",
        " # Creating objects\n",
        " s1 = Student(\"Ritesh\", 21)\n",
        " s2 = Student(\"Aditi\", 20)\n",
        " print(s1.name, s1.age)  # Output: Ritesh 21\n",
        " print(s2.name, s2.age)  # Output: Aditi 20\n",
        " Example 2: Default Constructor\n",
        " If no constructor is defined, Python provides a default constructor automatically.\n",
        " e.g:\n",
        " class Demo:\n",
        "    pass\n",
        " obj = Demo()  # Default constructor is called\n",
        " Example 3: Constructor with Default Arguments\n",
        " class Car:\n",
        "    def __init__(self, brand=\"Toyota\"):\n",
        "        self.brand = brand\n",
        " c1 = Car(\"BMW\")\n",
        " c2 = Car()   # Uses default value\n",
        " print(c1.brand)  # BMW\n",
        " print(c2.brand)  # Toyota\n",
        " Key Points:\n",
        " 1.\n",
        "__init__\n",
        " method = constructor in Python.\n",
        " 2. It initializes object attributes at creation time.\n",
        " 3. Python automatically calls it when you create an object.\n",
        " 4. We can use default arguments to make constructors flexible"
      ],
      "metadata": {
        "id": "vzbznMzLXsoa"
      }
    },
    {
      "cell_type": "markdown",
      "source": [
        " Q10. What are Class and Static Methods in Python?\n",
        "\n",
        "1. Class Methods\n",
        " A class method is a method that is bound to the class itself, not the object.\n",
        " It can access and modify class-level attributes (shared across all objects).\n",
        " Defined using the\n",
        "@classmethod\n",
        " decorator.\n",
        " The first parameter is always\n",
        "cls\n",
        " (refers to the class).\n",
        " Example:\n",
        " class Student:\n",
        "    school = \"ABC Public School\"   # Class attribute\n",
        "    def __init__(self, name, age):\n",
        "        self.name = name\n",
        "        self.age = age\n",
        "    @classmethod\n",
        "    def change_school(cls, new_school):\n",
        "        cls.school = new_school   # modifies class-level data\n",
        " # Using class method\n",
        " Student.change_school(\"XYZ International School\")\n",
        " print(Student.school)  # Output: XYZ International School\n",
        " 2. Static Methods\n",
        " A static method does not depend on the class\n",
        "(cls)\n",
        " or instance\n",
        "(self)\n",
        " .\n",
        " Used when we want a utility/helper function inside a class.\n",
        " Defined using the\n",
        "@staticmethod\n",
        " decorator.\n",
        "class MathOperations:\n",
        "    @staticmethod\n",
        "    def add(x, y):\n",
        "        return x + y\n",
        "    @staticmethod\n",
        "    def multiply(x, y):\n",
        "        return x * y\n",
        " # Using static methods\n",
        " print(MathOperations.add(5, 10))       # Output: 15\n",
        " print(MathOperations.multiply(3, 4))   # Output: 12\n",
        " Key Differences Between Class & Static Methods\n",
        " Feature Class Method (\n",
        " @classmethod\n",
        " ) Static Method (\n",
        " @staticmethod\n",
        " )\n",
        " First Argument\n",
        " cls\n",
        " (class reference) No default first argument\n",
        " Access\n",
        "cls\n",
        " ? Yes No\n",
        " Access\n",
        "self\n",
        " ? No No\n",
        " Scope Works with class-level data Independent utility/helper\n",
        " Use Case Modify/read class attributes General-purpose method\n",
        "  Real-Life Analogy\n",
        " Class Method: Like a school notice board — ek baar badal diya, to poore school (sab students) ke liye effect hoga.\n",
        " Static Method: Like a calculator kept in the school — jo sab use kar sakte hain, lekin wo school ya students ke data pe depend nahi\n",
        " karta."
      ],
      "metadata": {
        "id": "ZrnGzoNHX4if"
      }
    },
    {
      "cell_type": "markdown",
      "source": [
        "Q11. What is Method Overloading in Python?"
      ],
      "metadata": {
        "id": "RGgjkvtEYRHm"
      }
    },
    {
      "cell_type": "markdown",
      "source": [
        " Definition\n",
        " Method Overloading means having multiple methods with the same name but different parameters (like in Java/C++).\n",
        " Python does not support true method overloading because:\n",
        " The latest defined method with the same name will overwrite the previous ones.\n",
        " How Python Handles It\n",
        " Instead of true overloading, Python uses:\n",
        " 1. Default arguments\n",
        " 2. Variable-length arguments (\n",
        " *args\n",
        " ,\n",
        "**kwargs\n",
        " )\n",
        " This way, a single method can handle different numbers of parameters.\n",
        " Example1: Default Arguments\n",
        " class Calculator:\n",
        "    def add(self, a=0, b=0, c=0):\n",
        "        return a + b + c\n",
        " calc = Calculator()\n",
        " print(calc.add(2))        # 2\n",
        " print(calc.add(2, 3))     # 5\n",
        " print(calc.add(2, 3, 4))  # 9\n",
        " Example2: Variable-Length Arguments\n",
        " class Calculator:\n",
        "    def add(self, *args):\n",
        "        return sum(args)\n",
        " calc = Calculator()\n",
        " print(calc.add(5))\n",
        "  Definition\n",
        " Method Overloading means having multiple methods with the same name but different parameters (like in Java/C++).\n",
        " Python does not support true method overloading because:\n",
        " The latest defined method with the same name will overwrite the previous ones.\n",
        " How Python Handles It\n",
        " Instead of true overloading, Python uses:\n",
        " 1. Default arguments\n",
        " 2. Variable-length arguments (\n",
        " *args\n",
        " ,\n",
        "**kwargs\n",
        " )\n",
        " This way, a single method can handle different numbers of parameters.\n",
        " Example1: Default Arguments\n",
        " class Calculator:\n",
        "    def add(self, a=0, b=0, c=0):\n",
        "        return a + b + c\n",
        " calc = Calculator()\n",
        " print(calc.add(2))        # 2\n",
        " print(calc.add(2, 3))     # 5\n",
        " print(calc.add(2, 3, 4))  # 9\n",
        " Example2: Variable-Length Arguments\n",
        " class Calculator:\n",
        "    def add(self, *args):\n",
        "        return sum(args)\n",
        " calc = Calculator()\n",
        " print(calc.add(5))               #                #"
      ],
      "metadata": {
        "id": "eWLznL2nYcDy"
      }
    },
    {
      "cell_type": "markdown",
      "source": [],
      "metadata": {
        "id": "q4Xj1a1jYHvT"
      }
    },
    {
      "cell_type": "markdown",
      "source": [
        " Q12. What is Method Overriding in OOP?"
      ],
      "metadata": {
        "id": "yRO4cKSEYj60"
      }
    },
    {
      "cell_type": "markdown",
      "source": [
        " Definition\n",
        " Method Overriding occurs when a child class provides a specific implementation of a method that is already defined in its parent\n",
        " class.\n",
        " The method in the child class must have:\n",
        " The same name\n",
        " The same number of parameters\n",
        " as the method in the parent class.\n",
        " Key Points\n",
        " 1. Method overriding is used to change or extend the behavior of a parent class method.\n",
        " 2. It supports Runtime Polymorphism (decision happens at runtime).\n",
        " 3. The parent class method is replaced (or extended) when called using a child class object.\n",
        " Example1: Basic Overriding\n",
        " class Animal:\n",
        "    def sound(self):\n",
        "        return \"Some generic sound\"\n",
        " class Dog(Animal):\n",
        "    def sound(self):  # Overriding the parent method\n",
        "        return \"Bark\"\n",
        " class Cat(Animal):\n",
        "    def sound(self):  # Overriding again\n",
        "        return \"Meow\"\n",
        " # Test\n",
        " dog = Dog()\n",
        " cat = Cat()\n",
        " print(dog.sound())  # Bark\n",
        " print(cat.sound())  # Meow\n",
        " Example2: Using super() in Overriding\n",
        " class Vehicle:\n",
        "    def info(self):\n",
        "        return \"This is a vehicle.\"\n",
        " class Car(Vehicle):\n",
        "    def info(self):\n",
        "        # Extending parent method using super()\n",
        "        return super().info() + \" Specifically, it is a car.\"\n",
        " # Test\n",
        " car = Car()\n",
        " print(car.info())  # This is a vehicle. Specifically, it is a car"
      ],
      "metadata": {
        "id": "k_-wQgsBYxN8"
      }
    },
    {
      "cell_type": "markdown",
      "source": [
        " Q13. What is a Property Decorator in Python?"
      ],
      "metadata": {
        "id": "YKTdOR2MY2yH"
      }
    },
    {
      "cell_type": "markdown",
      "source": [
        " Definition\n",
        " The\n",
        "@property\n",
        " decorator in Python is used to define methods in a class that can be accessed like attributes (without parentheses).\n",
        " It allows you to:\n",
        " 1. Encapsulate data (hide internal representation).\n",
        " 2. Provide getter, setter, and deleter functionality in a clean and Pythonic way.\n",
        " This makes your class more readable and maintainable.\n",
        " Why Use\n",
        "@property\n",
        " ?\n",
        " Sometimes you want to protect access to a variable and perform extra logic when getting or setting it.\n",
        " Instead of calling explicit methods (\n",
        " get_name()\n",
        " ,\n",
        "set_name()\n",
        " ), you can use\n",
        "@property\n",
        " to access them as if they were simple\n",
        " attributes.\n",
        " Example: Using\n",
        "@property\n",
        " class Student:\n",
        "    def __init__(self, name):\n",
        "        self._name = name   # private variable convention\n",
        "    @property\n",
        "    def name(self):\n",
        "        return self._name   # getter\n",
        "    @name.setter\n",
        "    def name(self, value):\n",
        "        if not value.strip():     # validation\n",
        "            raise ValueError(\"Name cannot be empty!\")\n",
        "        self._name = value        # setter\n",
        "    @name.deleter\n",
        "    def name(self):\n",
        "        print(\"Deleting name...\")\n",
        "        del self._name\n",
        " # Test\n",
        " s = Student(\"Ritesh\")\n",
        " print(s.name)   # Access like attribute → Ritesh\n",
        " s.name = \"Aditi\"   # Calls setter internally\n",
        " print(s.name)      # Aditi\n",
        " del s.name         # Calls deleter\n",
        " Key Points\n",
        " 1. @property\n",
        "→\n",
        " creates a getter method.\n",
        " 2. @name.setter\n",
        "→\n",
        " creates a setter method.\n",
        " 3. @name.deleter\n",
        "→\n",
        " creates a deleter method.\n",
        " 4. You access it like a normal attribute, but behind the scenes, methods are called"
      ],
      "metadata": {
        "id": "A0Fx-xxgY7QA"
      }
    },
    {
      "cell_type": "markdown",
      "source": [
        "Q14. Why is Polymorphism Important in OOP?"
      ],
      "metadata": {
        "id": "mmE4J64KZDr3"
      }
    },
    {
      "cell_type": "markdown",
      "source": [
        " Definition\n",
        " Polymorphism means \"many forms\".\n",
        " In OOP, polymorphism allows the same interface (method/function) to work with different types of objects.\n",
        " Example: A method\n",
        "draw()\n",
        " can be defined in multiple classes (\n",
        " Circle\n",
        " ,\n",
        "Square\n",
        " ,\n",
        "Triangle\n",
        " ) but each class provides its own\n",
        " implementation.\n",
        " Importance of Polymorphism\n",
        " 1. Code Reusability\n",
        " Same function name can be used for different data types or classes.\n",
        " Reduces duplication in code.\n",
        " 2. Flexibility & Maintainability\n",
        " Makes code more extensible.\n",
        " New classes can be added without changing the existing code structure.\n",
        " 3. Readability\n",
        " Clearer and cleaner code because method names stay consistent.\n",
        " 4. Supports Dynamic Behavior\n",
        " Python resolves which method to call at runtime (dynamic polymorphism).\n",
        " This enables writing generic and reusable code.\n",
        " Example: Polymorphism in Action\n",
        " class Dog:\n",
        "    def sound(self):\n",
        "        return \"Woof!\"\n",
        " class Cat:\n",
        "    def sound(self):\n",
        "        return \"Meow!\"\n",
        " class Cow:\n",
        "    def sound(self):\n",
        "        return \"Moo!\"\n",
        " # Polymorphism: Same method name `sound()` behaves differently\n",
        " animals = [Dog(), Cat(), Cow()]\n",
        " for animal in animals:\n",
        "    print(animal.sound())\n",
        " # Output\n",
        " Woof!\n",
        " Meow!\n",
        " Moo"
      ],
      "metadata": {
        "id": "GdaQIXsPZITS"
      }
    },
    {
      "cell_type": "markdown",
      "source": [
        " Q15. What is an Abstract Class in Python?"
      ],
      "metadata": {
        "id": "fcyTf5IiZQba"
      }
    },
    {
      "cell_type": "markdown",
      "source": [
        " Definition\n",
        " An abstract class is a class that cannot be instantiated directly.\n",
        " It serves as a blueprint for other classes.\n",
        " Abstract classes can contain:\n",
        " Abstract methods\n",
        "→\n",
        " Methods declared but not implemented.\n",
        " Concrete methods\n",
        "→\n",
        " Normal methods with implementation.\n",
        " In Python, abstract classes are created using the\n",
        "abc\n",
        " (Abstract Base Class) module.\n",
        " Why Use Abstract Classes?\n",
        " 1. To define a common interface for all subclasses.\n",
        " 2. To enforce implementation of certain methods in subclasses.\n",
        " 3. To achieve abstraction in OOP (hiding implementation details).\n",
        " Example: Abstract Class in Python\n",
        " from abc import ABC, abstractmethod\n",
        " # Abstract Class\n",
        " class Vehicle(ABC):\n",
        "    \n",
        "    @abstractmethod\n",
        "    def start_engine(self):\n",
        "        pass   # abstract method (must be implemented by subclass)\n",
        "    def fuel_type(self):\n",
        "        return \"Petrol or Diesel\"   # concrete method\n",
        " # Subclass 1\n",
        " class Car(Vehicle):\n",
        "  def start_engine(self):\n",
        " return \"Car engine started with key\"\n",
        " # Subclass 2\n",
        " class Bike(Vehicle):\n",
        " def start_engine(self):\n",
        " return \"Bike engine started with self-start\"\n",
        " # Objects\n",
        " car = Car()\n",
        " bike = Bike()\n",
        " print(car.start_engine())   \n",
        "# Car engine started with key\n",
        " print(bike.start_engine())  # Bike engine started with self-start"
      ],
      "metadata": {
        "id": "c7adsSt5ZWcQ"
      }
    },
    {
      "cell_type": "markdown",
      "source": [
        " Q16. What are the Advantages of Object-Oriented Programming (OOP)?"
      ],
      "metadata": {
        "id": "_4PZ9gZvZezj"
      }
    },
    {
      "cell_type": "markdown",
      "source": [
        " Object-Oriented Programming (OOP) provides a structured way of writing code by organizing it around objects and classes.\n",
        " It offers several advantages over traditional procedural programming.\n",
        " Advantages of OOP\n",
        " 1. Modularity (Code Reusability)\n",
        " Code is divided into classes and objects, making it modular and reusable.\n",
        " Once a class is created, it can be reused in different programs.\n",
        " 2. Encapsulation (Data Hiding)\n",
        " Sensitive data can be hidden inside a class and accessed only through defined methods.\n",
        " This improves security and prevents misuse.\n",
        " 3. Inheritance\n",
        " Classes can reuse and extend functionality from other classes.\n",
        " Promotes code reusability and avoids duplication.\n",
        " 4. Polymorphism\n",
        " The same function or method can work in different ways depending on the object.\n",
        " Makes the code more flexible and maintainable.\n",
        " 5. Abstraction\n",
        " Only essential details are shown, while complex implementation is hidden.\n",
        " Helps in reducing complexity.\n",
        " 6. Maintainability\n",
        " OOP code is easier to update, modify, and maintain because each class is independent.\n",
        " 7. Scalability\n",
        " Large projects can be managed efficiently as OOP makes it easier to divide work into modules (classes).\n",
        " Example (Real-Life Analogy)\n",
        " Think of a Car class:\n",
        " Properties:\n",
        "color\n",
        " ,\n",
        "model\n",
        " ,\n",
        "engine_type\n",
        " Methods:\n",
        "start()\n",
        " ,\n",
        "stop()\n",
        " You can create multiple car objects (e.g., Honda, BMW) without rewriting the code.\n",
        " If you need a SportsCar, you can inherit from Car and just add extra features.\n",
        " Summary\n",
        " OOP makes programs modular, reusable, secure, and easier to maintain.\n",
        " Key benefits: Encapsulation, Inheritance, Polymorphism, Abstraction.\n",
        " Widely used in real-world applications like banking systems, game development, and enterprise software"
      ],
      "metadata": {
        "id": "zalVS5vzZuCr"
      }
    },
    {
      "cell_type": "markdown",
      "source": [
        " Q17. What is the difference between a Class Variable and an Instance Variable?"
      ],
      "metadata": {
        "id": "P7vz6vvCZvWu"
      }
    },
    {
      "cell_type": "markdown",
      "source": [
        "In Python (and OOP in general), variables inside a class can be categorized into class variables and instance variables.\n",
        " They differ in terms of scope, behavior, and how they are shared.\n",
        " 1. Class Variable\n",
        " Defined inside a class, but outside any instance methods.\n",
        " Shared by all objects (instances) of the class.\n",
        " Changing a class variable affects all objects unless specifically overridden by an instance.\n",
        " 2. Instance Variable\n",
        " Defined inside a constructor (\n",
        " __init__\n",
        " ) or methods using\n",
        "self\n",
        " .\n",
        " Each object has its own copy of instance variables.\n",
        " Changing an instance variable affects only that specific object.\n",
        " Example in Python\n",
        " class Student:\n",
        "    # Class Variable (shared by all instances)\n",
        "    school_name = \"ABC Public School\"\n",
        "    \n",
        "    def __init__(self, name, grade):\n",
        "        # Instance Variables (unique to each object)\n",
        "        self.name = name\n",
        "        self.grade = grade\n",
        " # Creating two objects\n",
        " s1 = Student(\"Ritesh\", \"10th\")\n",
        " s2 = Student(\"Aditi\", \"12th\")\n",
        " # Accessing variables\n",
        " print(s1.name, s1.grade, s1.school_name)  # Ritesh 10th ABC Public School\n",
        " print(s2.name, s2.grade, s2.school_name)  # Aditi 12th ABC Public School\n",
        " # Changing the class variable\n",
        " Student.school_name = \"XYZ International School\"\n",
        " print(s1.school_name)  # XYZ International School\n",
        " print(s2.school_name)  # XYZ International School\n",
        " # Changing instance variable\n",
        " s1.grade = \"11th\"\n",
        " print(s1.grade)  # 11th (only for s1)\n",
        " print(s2.grade)  # 12th (unchanged for s2)\n",
        " Key Differences between Class Variable and Instance Variable\n",
        " Feature Class Variable Instance Variable\n",
        " Where defined Inside class, but outside methods Inside constructor (\n",
        " __init__\n",
        " ) or methods using\n",
        "self\n",
        " Shared by All objects of the class Only one object (unique per instance)\n",
        " Change effect Change affects all instances Change affects only that particular instance\n",
        " Accessed by\n",
        " ClassName.variable\n",
        " or\n",
        "self.variable\n",
        " Always through\n",
        "self.variable\n",
        " Memory usage Stored once in memory (efficient) Each object keeps its own cop"
      ],
      "metadata": {
        "id": "e1RwPj1iZ1EU"
      }
    },
    {
      "cell_type": "markdown",
      "source": [
        " Q18. What is multiple inheritance in Python?"
      ],
      "metadata": {
        "id": "Siu55qoeZ8Vh"
      }
    },
    {
      "cell_type": "markdown",
      "source": [
        "Definition\n",
        " Multiple inheritance in Python is a feature of object-oriented programming where a single child class can inherit properties and methods from\n",
        " two or more parent classes simultaneously.\n",
        " It allows the child class to combine the functionality of multiple classes, promoting code reusability, flexibility, and better modeling of real\n",
        "world scenarios.\n",
        " Syntax\n",
        " class Parent1:\n",
        "    pass\n",
        "    class Parent2:\n",
        "    pass\n",
        " class Child(Parent1, Parent2):   # Child inherits from both Parent1 and Parent2\n",
        "    pass\n",
        " Example:\n",
        "class Father:\n",
        "    def skill(self):\n",
        "        print(\"Gardening\")\n",
        " class Mother:\n",
        "    def skill(self):\n",
        "        print(\"Cooking\")\n",
        " class Child(Father, Mother):    # Multiple Inheritance\n",
        "    def skill(self):\n",
        "        print(\"Child also knows Coding\")\n",
        " # Object creation\n",
        " c = Child()\n",
        " c.skill()      # Child also knows Coding"
      ],
      "metadata": {
        "id": "XpXw07kEaC_g"
      }
    },
    {
      "cell_type": "markdown",
      "source": [
        "19. Explain the purpose of ‘’str’ and ‘repr’ ‘ methods in Python"
      ],
      "metadata": {
        "id": "x5Fzev6_aKJY"
      }
    },
    {
      "cell_type": "markdown",
      "source": [
        " __str__\n",
        " and\n",
        "__repr__\n",
        " Methods in Python\n",
        " In Python, both\n",
        "__str__\n",
        " and\n",
        "__repr__\n",
        " are special methods (also called dunder methods — \"double underscore\") that control how objects\n",
        " are represented as strings. They are very useful when printing or debugging objects.\n",
        " 1.\n",
        "__str__\n",
        " Method\n",
        " Purpose: Returns a human-readable string representation of the object.\n",
        " It is called when you use the\n",
        "print()\n",
        " function or\n",
        "str()\n",
        " on an object.\n",
        " Should be informal and easy to read for end-users.\n",
        " Example:\n",
        " class Student:\n",
        "    def __init__(self, name, marks):\n",
        "        self.name = name\n",
        "        self.marks = marks\n",
        "    \n",
        "    def __str__(self):\n",
        "        return f\"Student Name: {self.name}, Marks: {self.marks}\"\n",
        " s = Student(\"Ritesh\", 95)\n",
        " print(s)   # Calls __str__\n",
        "           # Output Student Name: Ritesh, Marks: 95\n",
        " 2.\n",
        "__repr__\n",
        " Method\n",
        " Purpose: Returns a developer-friendly string representation of the object.\n",
        " Mainly used for debugging and logging.\n",
        " The goal is to be unambiguous, often showing the code to recreate the object.\n",
        " If\n",
        "__str__\n",
        " is not defined,\n",
        "print()\n",
        " will fallback to\n",
        "__repr__\n",
        " .\n",
        " Example:\n",
        " class Student:\n",
        "    def __init__(self, name, marks):\n",
        "        self.name = name\n",
        "        self.marks = marks\n",
        "    \n",
        "    def __repr__(self):\n",
        "        return f\"Student('{self.name}', {self.marks})\"\n",
        " s = Student(\"Aditi\", 33)\n",
        " print(repr(s))   # Calls __repr__\n",
        "                 # Output Student('Aditi', 33)\n",
        "                  3. Key Difference Between\n",
        "__str__\n",
        " and\n",
        "__repr__\n",
        " Feature\n",
        " __str__\n",
        " (User-Friendly)\n",
        " __repr__\n",
        " (Developer-Friendly)\n",
        " Audience End-users / casual display Developers / debugging\n",
        " Output Style Readable, nicely formatted Precise, unambiguous, recreatable\n",
        " Called By\n",
        " print(obj)\n",
        " or\n",
        "str(obj) repr(obj)\n",
        " or interactive shell prompt\n",
        " Fallback Falls back to\n",
        "__repr__\n",
        " if not defined No fallback (always exists by default"
      ],
      "metadata": {
        "id": "gDKjp8ixaP2-"
      }
    },
    {
      "cell_type": "markdown",
      "source": [
        "20. What is the significance of the ‘super()’ function in Python?"
      ],
      "metadata": {
        "id": "EjorSa1vabnG"
      }
    },
    {
      "cell_type": "markdown",
      "source": [
        " The\n",
        "super()\n",
        " function is a built-in function in Python that allows us to call methods from a parent (superclass) inside a child (subclass).\n",
        " It is mainly used in inheritance to avoid rewriting code and to ensure proper method resolution when multiple classes are involved.\n",
        " 1. Why Use\n",
        "super()\n",
        " ?\n",
        " Code Reusability: Prevents duplicate code by reusing parent class methods.\n",
        " Maintainability: If the parent class changes, child classes automatically inherit updated behavior.\n",
        " Supports Multiple Inheritance: Works with Python's MRO (Method Resolution Order) to correctly decide which class method to call.\n",
        " Cleaner Syntax: Avoids hardcoding the parent class name, making the code more flexible.\n",
        " 2. Example: Without\n",
        "super()\n",
        " class Parent:\n",
        "    def __init__(self, name):\n",
        "        self.name = name\n",
        " class Child(Parent):\n",
        "    def __init__(self, name, age):\n",
        "        Parent.__init__(self, name)   # explicitly calling Parent\n",
        "        self.age = age\n",
        " c = Child(\"Ritesh\", 21)\n",
        " print(c.name, c.age)             # Output Ritesh 21\n",
        " 3. Example: With\n",
        "super()\n",
        " class Parent:\n",
        "    def __init__(self, name):\n",
        "        self.name = name\n",
        " class Child(Parent):\n",
        "    def __init__(self, name, age):\n",
        "        super().__init__(name)   # super() automatically finds Parent\n",
        "        self.age = age\n",
        " c = Child(\"Aditi\", 20)\n",
        " print(c.name, c.age)          # Output Aditi 20\n",
        " 4. Example: Multiple Inheritance\n",
        " class A:\n",
        "    def show(self):\n",
        "        print(\"Class A\")\n",
        " class B(A):\n",
        "    def show(self):\n",
        "     super().show()\n",
        "        print(\"Class B\")\n",
        " class C(B):\n",
        "    def show(self):\n",
        "        super().show()\n",
        "        print(\"Class C\")\n",
        " obj = C()\n",
        " obj.show()\n",
        " # Output\n",
        " Class A\n",
        " Class B\n",
        " Class C"
      ],
      "metadata": {
        "id": "5uK-BKhwagT6"
      }
    },
    {
      "cell_type": "markdown",
      "source": [
        "21. What is the significance of the del method in Python?"
      ],
      "metadata": {
        "id": "LMCD5ApSaqfY"
      }
    },
    {
      "cell_type": "markdown",
      "source": [
        " In Python, the\n",
        "__del__\n",
        " method is a destructor method.\n",
        " It is called automatically when an object is about to be destroyed (i.e., when it goes out of scope or its reference count drops to zero).\n",
        " 1. Purpose of\n",
        "__del__\n",
        " Used to free resources (like closing files, releasing network connections, or cleaning up memory).\n",
        " Called by Python’s garbage collector before the object is removed from memory.\n",
        " Helps in performing final clean-up tasks.\n",
        " 2. Example: Basic Use of\n",
        "__del__\n",
        " class Demo:\n",
        "    def __init__(self, name):\n",
        "        self.name = name\n",
        "        print(f\"Object {self.name} created.\")\n",
        "    \n",
        "    def __del__(self):\n",
        "        print(f\"Destructor called, object {self.name} deleted.\")\n",
        " obj = Demo(\"Ritesh\")\n",
        " del obj   # explicitly deleting object\n",
        " # Output\n",
        " Object Ritesh created.\n",
        " Destructor called, object Ritesh deleted.\n",
        " 3. Example: Automatic Call by Garbage Collector\n",
        " class FileHandler:\n",
        "    def __init__(self, filename):\n",
        "        self.file = open(filename, \"w\")\n",
        "        print(\"File opened.\")\n",
        "    \n",
        "    def __del__(self):\n",
        "        self.file.close()\n",
        "        print(\"File closed automatically.\")\n",
        " handler = FileHandler(\"test.txt\")\n",
        " # No explicit del required, __del__ will be called when program ends or object is destroyed\n",
        " # Output\n",
        " File opened.\n",
        " File closed automatically.\n",
        " 4. Important Points About\n",
        "__del__\n",
        " Not guaranteed to run immediately after an object goes out of scope; Python decides when garbage collection happens\n",
        " If objects have circular references, del may not be called reliably.\n",
        " Overusing del can cause issues; prefer using context managers (with statement) for resource management"
      ],
      "metadata": {
        "id": "9QGgUdm3auVk"
      }
    },
    {
      "cell_type": "markdown",
      "source": [
        " 22. What is the difference between @staticmethod and @classmethod in Python?"
      ],
      "metadata": {
        "id": "aRhBgc8La6dt"
      }
    },
    {
      "cell_type": "markdown",
      "source": [
        "In Python, both\n",
        "@staticmethod\n",
        " and\n",
        "@classmethod\n",
        " are decorators used to define methods inside a class that are not regular instance\n",
        " methods.\n",
        " They look similar, but they serve different purposes.\n",
        " 1.\n",
        "@staticmethod\n",
        " A static method does not take\n",
        "self\n",
        " (object reference) or\n",
        "cls\n",
        " (class reference) as the first argument.\n",
        " It behaves like a normal function but belongs to the class’s namespace.\n",
        " Can be called using either the class name or an instance.\n",
        " Cannot access or modify class-level data or instance attributes directly.\n",
        " Example:\n",
        " class MathOperations:\n",
        "    @staticmethod\n",
        "    def add(x, y):\n",
        "        return x + y\n",
        " print(MathOperations.add(5, 3))   # Called using class\n",
        "                                  # Output 8\n",
        " obj = MathOperations()\n",
        " print(obj.add(10, 7))             # Called using object\n",
        "                                  # Output 17\n",
        " 2.\n",
        "@classmethod\n",
        " A class method takes\n",
        "cls\n",
        " (class reference) as the first argument.\n",
        " It can access and modify class-level variables, but not instance variables directly.\n",
        " Useful when we want to create factory methods (methods that return class objects).\n",
        " Example:\n",
        " class Student:\n",
        "    count = 0   # Class variable\n",
        "    \n",
        "    def __init__(self, name):\n",
        "        self.name = name\n",
        "        Student.count += 1\n",
        "    \n",
        "    @classmethod\n",
        "    def get_count(cls):\n",
        "        return f\"Total Students: {cls.count}\"\n",
        " s1 = Student(\"Ritesh\")\n",
        " s2 = Student(\"Aditi\")\n",
        " print(Student.get_count())  # Output Total Students: 2\n",
        " 3. Key Differences Between\n",
        "@staticmethod\n",
        " and\n",
        "@classmethod\n",
        " Feature @staticmethod @classmethod\n",
        " First Parameter No\n",
        "self\n",
        " or\n",
        "cls\n",
        " Takes\n",
        "cls\n",
        " as the first argument\n",
        " Access to Class Data Cannot access or modify class/instance variables Can access and modify class-level data\n",
        " Usage Utility functions related to the class Factory methods or operations on class-level data\n",
        " Call Can be called via class or object Can be called via class or objec"
      ],
      "metadata": {
        "id": "XCYz8_XZa-qf"
      }
    },
    {
      "cell_type": "markdown",
      "source": [
        " 23. How does polymorphism work in Python with inheritance?"
      ],
      "metadata": {
        "id": "YdIKfjYfbDPV"
      }
    },
    {
      "cell_type": "markdown",
      "source": [
        "Polymorphism means \"many forms\".\n",
        " In Python, it allows the same method or operation to behave differently depending on the object that calls it.\n",
        " When combined with inheritance, polymorphism lets child classes provide their own implementation of methods that are already defined in\n",
        " the parent class.\n",
        " 1. How Polymorphism Works with Inheritance\n",
        " A parent class defines a method.\n",
        " Child classes override (redefine) that method with their own behavior.\n",
        " When we call the method on different objects, Python automatically decides which version to execute (based on the object type).\n",
        " 2. Example: Basic Polymorphism with Inheritance\n",
        " class Animal:\n",
        "    def sound(self):\n",
        "        return \"Some generic animal sound\"\n",
        " class Dog(Animal):\n",
        "    def sound(self):\n",
        "        return \"Bark\"\n",
        " class Cat(Animal):\n",
        "    def sound(self):\n",
        "        return \"Meow\"\n",
        " # Polymorphism in action\n",
        " animals = [Dog(), Cat(), Animal()]\n",
        " for a in animals:\n",
        "    print(a.sound())\n",
        " # Output\n",
        " Bark\n",
        " Meow\n",
        " Some generic animal sound\n",
        " 3. Example: Using Polymorphism in Functions\n",
        " class Bird(Animal):\n",
        "    def sound(self):\n",
        "        return \"Chirp\"\n",
        " def make_sound(animal):\n",
        "    print(animal.sound())\n",
        " make_sound(Dog())   # Bark\n",
        " make_sound(Cat())   # Meow\n",
        " make_sound(Bird())  # Chirp\n",
        " 4. Key Advantages of Polymorphism\n",
        " Flexibility: Same interface works with different types of objects.\n",
        " Reusability: Functions or methods can handle objects of different classes.\n",
        " Maintainability: Easier to extend programs by adding new subclasses."
      ],
      "metadata": {
        "id": "ZJVHDgkvbHFa"
      }
    },
    {
      "cell_type": "markdown",
      "source": [
        " 24. What is method chaining in Python OOP?"
      ],
      "metadata": {
        "id": "olIWOSyibL6_"
      }
    },
    {
      "cell_type": "markdown",
      "source": [
        " Method chaining is a technique in object-oriented programming where multiple methods are called sequentially on the same object in a\n",
        " single line.\n",
        " This is achieved by designing methods to return\n",
        "self\n",
        " , allowing the next method to be called directly on the same instance.\n",
        " 1. Why Use Method Chaining?\n",
        " Concise Code: Combine multiple operations into a single statement\n",
        " Fluent Interface: Improves readability and expresses a flow of operations naturally.\n",
        " Convenient: Reduces the need to repeatedly reference the object.\n",
        " 2. Example: Simple Method Chaining\n",
        " class Person:\n",
        "    def __init__(self, name):\n",
        "        self.name = name\n",
        "        self.age = 0\n",
        "    def set_age(self, age):\n",
        "        self.age = age\n",
        "        return self   # Return self to allow chaining\n",
        "    def greet(self):\n",
        "        print(f\"Hello, my name is {self.name} and I am {self.age} years old.\")\n",
        "        return self   # Return self to continue chaining\n",
        " # Using method chaining\n",
        " p = Person(\"Ritesh\")\n",
        " p.set_age(21).greet() # Output Hello, my name is Ritesh and I am 21 years old.\n",
        " 3. Example: Chaining Multiple Methods\n",
        " class Car:\n",
        "    def __init__(self, brand):\n",
        "        self.brand = brand\n",
        "        self.speed = 0\n",
        "    def accelerate(self, value):\n",
        "        self.speed += value\n",
        "        return self\n",
        "    def brake(self, value):\n",
        "        self.speed -= value\n",
        "        return self\n",
        "    def display_speed(self):\n",
        "        print(f\"{self.brand} is moving at {self.speed} km/h\")\n",
        "        return self\n",
        " # Chaining multiple methods\n",
        " my_car = Car(\"BMW\")\n",
        " my_car.accelerate(50).brake(10).display_speed() # Output BMW is moving at 40 km/h\n",
        " 4. Key Points About Method Chaining\n",
        " Methods must return self to enable chaining.\n",
        " Improves code readability and fluency.\n",
        " Widely used in libraries like Pandas, SQLAlchemy, and Matplotlib"
      ],
      "metadata": {
        "id": "q5tpdmtPbOI4"
      }
    },
    {
      "cell_type": "markdown",
      "source": [
        " 25. What is the purpose of the call method in Python?"
      ],
      "metadata": {
        "id": "j8j9PGtEbY6T"
      }
    },
    {
      "cell_type": "markdown",
      "source": [
        "In Python, the\n",
        "__call__\n",
        " method is a special (dunder) method that allows an instance of a class to be called like a regular function.\n",
        " This means that after defining\n",
        "__call__\n",
        " , you can use the object with parentheses\n",
        "()\n",
        " as if it were a function.\n",
        " 1. Why Use\n",
        "__call__\n",
        " ?\n",
        " Function-like behavior: Treat objects as callable functions.\n",
        " Encapsulation: Combine data and behavior in an object that can still be invoked easily.\n",
        " Flexibility: Useful in designing functors, decorators, or APIs where objects need to be callable.\n",
        " 2. Example: Basic Use of\n",
        "__call__\n",
        "class Adder:\n",
        "    def __init__(self, x):\n",
        "        self.x = x\n",
        "    def __call__(self, y):\n",
        "        return self.x + y\n",
        " add_five = Adder(5)\n",
        " print(add_five(10))  # Calling the object like a function\n",
        "                     # Output 15\n",
        " 3. Example: call for Logging\n",
        " class Logger:\n",
        "    def __init__(self, prefix):\n",
        "        self.prefix = prefix\n",
        "    def __call__(self, message):\n",
        "        print(f\"{self.prefix}: {message}\")\n",
        " log = Logger(\"INFO\")\n",
        " log(\"This is a log message\") # Output INFO: This is a log message\n",
        " 4. Key Points About\n",
        "__call__\n",
        " Makes objects callable like functions.\n",
        " Can accept any number of arguments (\n",
        " *args\n",
        " and\n",
        "**kwargs\n",
        " ).\n",
        " Useful in functional programming patterns, decorators, and APIs.\n",
        " Enhances flexibility and readability when objects encapsulate behavior"
      ],
      "metadata": {
        "id": "1PYGwi1ZbcUh"
      }
    },
    {
      "cell_type": "markdown",
      "source": [
        " Practical Questions:\n",
        "1. Create a parent class Animal with a method speak() that prints a generic\n",
        " message. Create a child class Dog that overrides the speak() method to print \"Bark!\"."
      ],
      "metadata": {
        "id": "hRccdNblbqBs"
      }
    },
    {
      "cell_type": "code",
      "source": [
        " # Parent class\n",
        " class Animal:\n",
        "    def speak(self):\n",
        "        print(\"This is a generic animal sound\")\n",
        " # Child class\n",
        " class Dog(Animal):\n",
        "    def speak(self):\n",
        "        print(\"Bark!\")\n",
        " animal = Animal()\n",
        " animal.speak()\n",
        " dog = Dog()\n",
        " dog.speak()"
      ],
      "metadata": {
        "colab": {
          "base_uri": "https://localhost:8080/"
        },
        "id": "SyPR5HLIbuSx",
        "outputId": "6d35311e-c7ac-4012-ccb1-5487cea0b193"
      },
      "execution_count": 1,
      "outputs": [
        {
          "output_type": "stream",
          "name": "stdout",
          "text": [
            "This is a generic animal sound\n",
            "Bark!\n"
          ]
        }
      ]
    },
    {
      "cell_type": "markdown",
      "source": [
        "2. Write a program to create an abstract class Shape with a method area(). Derive\n",
        " classes Circle and Rectangle from it and implement the area() method in both."
      ],
      "metadata": {
        "id": "TR5RyDPLbzRL"
      }
    },
    {
      "cell_type": "code",
      "source": [
        " from abc import ABC, abstractmethod\n",
        " # Abstract class\n",
        " class Shape(ABC):\n",
        "  @abstractmethod\n",
        "  def area(self):\n",
        "        pass\n",
        " # Circle class\n",
        " class Circle(Shape):\n",
        "    def __init__(self, radius):\n",
        "        self.radius = radius\n",
        "    def area(self):\n",
        "        return 3.14 * self.radius * self.radius\n",
        " # Rectangle class\n",
        " class Rectangle(Shape):\n",
        "    def __init__(self, length, width):\n",
        "        self.length = length\n",
        "        self.width = width\n",
        "    def area(self):\n",
        "        return self.length * self.width\n",
        " c = Circle(5)\n",
        " r = Rectangle(4, 6)\n",
        " print(\"Circle area:\", c.area())\n",
        " print(\"Rectangle area:\", r.area())"
      ],
      "metadata": {
        "colab": {
          "base_uri": "https://localhost:8080/"
        },
        "id": "gLJGBlpeb3VN",
        "outputId": "a41729b6-4382-4dbb-82f0-23a4b0d39b9c"
      },
      "execution_count": 3,
      "outputs": [
        {
          "output_type": "stream",
          "name": "stdout",
          "text": [
            "Circle area: 78.5\n",
            "Rectangle area: 24\n"
          ]
        }
      ]
    },
    {
      "cell_type": "markdown",
      "source": [
        " 3. Implement a multi-level inheritance scenario where a class Vehicle has an\n",
        " attribute type. Derive a class Car and further derive a class ElectricCar that adds a\n",
        " battery attribute"
      ],
      "metadata": {
        "id": "Ob3y5NhecH_h"
      }
    },
    {
      "cell_type": "code",
      "source": [
        " # Parent class\n",
        " class Vehicle:\n",
        "    def __init__(self, type):\n",
        "        self.type = type\n",
        " # Child class\n",
        " class Car(Vehicle):\n",
        "    def __init__(self, type, model):\n",
        "        super().__init__(type)\n",
        "        self.model = model\n",
        " # Grandchild class\n",
        " class ElectricCar(Car):\n",
        "    def __init__(self, type, model, battery):\n",
        "        super().__init__(type, model)\n",
        "        self.battery = battery\n",
        " ecar = ElectricCar(\"Car\", \"Tesla Model 3\", \"75 kWh\")\n",
        " print(\"Type:\", ecar.type)\n",
        " print(\"Model:\", ecar.model)\n",
        " print(\"Battery:\", ecar.battery)"
      ],
      "metadata": {
        "colab": {
          "base_uri": "https://localhost:8080/"
        },
        "id": "_bB8Ii6vcMNe",
        "outputId": "fb48464b-86f6-41e0-8d8b-a810a64853eb"
      },
      "execution_count": 4,
      "outputs": [
        {
          "output_type": "stream",
          "name": "stdout",
          "text": [
            "Type: Car\n",
            "Model: Tesla Model 3\n",
            "Battery: 75 kWh\n"
          ]
        }
      ]
    },
    {
      "cell_type": "markdown",
      "source": [
        " 4. Demonstrate polymorphism by creating a base class Bird with a method fly().\n",
        " Create two derived classes Sparrow and Penguin that override the fly() method"
      ],
      "metadata": {
        "id": "w8IMylWVcRyu"
      }
    },
    {
      "cell_type": "code",
      "source": [
        " # Base class\n",
        " class Bird:\n",
        "    def fly(self):\n",
        "        print(\"Some birds can fly\")\n",
        " # Derived class Sparrow\n",
        " class Sparrow(Bird):\n",
        "    def fly(self):\n",
        "        print(\"Sparrow can fly high\")\n",
        " # Derived class Penguin\n",
        " class Penguin(Bird):\n",
        "    def fly(self):\n",
        "        print(\"Penguin cannot fly\")\n",
        " birds = [Sparrow(), Penguin()]\n",
        " for bird in birds:\n",
        "    bird.fly()"
      ],
      "metadata": {
        "colab": {
          "base_uri": "https://localhost:8080/"
        },
        "id": "S8b0yW-9dR4P",
        "outputId": "6e77d894-1ef9-4d28-ec7b-df18897653bb"
      },
      "execution_count": 10,
      "outputs": [
        {
          "output_type": "stream",
          "name": "stdout",
          "text": [
            "Sparrow can fly high\n",
            "Penguin cannot fly\n"
          ]
        }
      ]
    },
    {
      "cell_type": "markdown",
      "source": [
        " 5. Write a program to demonstrate encapsulation by creating a class BankAccount\n",
        " with private attributes balance and methods to deposit, withdraw, and check\n",
        " balance."
      ],
      "metadata": {
        "id": "Hyxv41N3dl4l"
      }
    },
    {
      "cell_type": "code",
      "source": [
        " # Encapsulation example\n",
        " class BankAccount:\n",
        "    def __init__(self, balance):\n",
        "        self.__balance = balance  # private attribute\n",
        "    def deposit(self, amount):\n",
        "        self.__balance += amount\n",
        "        print(f\"Deposited: {amount}\")\n",
        "    def withdraw(self, amount):\n",
        "        if amount <= self.__balance:\n",
        "            self.__balance -= amount\n",
        "            print(f\"Withdrawn: {amount}\")\n",
        "        else:\n",
        "            print(\"Insufficient balance\")\n",
        "    def check_balance(self):\n",
        "        print(f\"Balance: {self.__balance}\")\n",
        " account = BankAccount(1000)\n",
        " account.deposit(500)\n",
        " account.withdraw(300)\n",
        " account.check_balance()"
      ],
      "metadata": {
        "colab": {
          "base_uri": "https://localhost:8080/"
        },
        "id": "7a0z2B36dpbh",
        "outputId": "ac936366-0bff-4af7-e618-27bed1188766"
      },
      "execution_count": 11,
      "outputs": [
        {
          "output_type": "stream",
          "name": "stdout",
          "text": [
            "Deposited: 500\n",
            "Withdrawn: 300\n",
            "Balance: 1200\n"
          ]
        }
      ]
    },
    {
      "cell_type": "markdown",
      "source": [
        " 6. Demonstrate runtime polymorphism using a method play() in a base class\n",
        " Instrument. Derive classes Guitar and Piano that implement their own version of\n",
        " play()."
      ],
      "metadata": {
        "id": "bOc56zFWdupp"
      }
    },
    {
      "cell_type": "code",
      "source": [
        " class Instrument:\n",
        "    def play(self):\n",
        "        print(\"Playing instrument\")\n",
        " # Derived class Guitar\n",
        " class Guitar(Instrument):\n",
        "    def play(self):\n",
        "        print(\"Playing guitar\")\n",
        " # Derived class Piano\n",
        " class Piano(Instrument):\n",
        "    def play(self):\n",
        "        print(\"Playing piano\")\n",
        " # Testing runtime polymorphism\n",
        " instruments = [Guitar(), Piano()]\n",
        " for instrument in instruments:\n",
        "    instrument.play()\n"
      ],
      "metadata": {
        "colab": {
          "base_uri": "https://localhost:8080/"
        },
        "id": "Q91oTMpDdx8e",
        "outputId": "635bab8d-5808-422d-f427-3d4d70f476b8"
      },
      "execution_count": 17,
      "outputs": [
        {
          "output_type": "stream",
          "name": "stdout",
          "text": [
            "Playing guitar\n",
            "Playing piano\n"
          ]
        }
      ]
    },
    {
      "cell_type": "markdown",
      "source": [
        " 7. Create a class MathOperations with a class method add_numbers() to add two\n",
        " numbers and a static method subtract_numbers() to subtract two numbers."
      ],
      "metadata": {
        "id": "t_bpuk3EesvQ"
      }
    },
    {
      "cell_type": "markdown",
      "source": [],
      "metadata": {
        "id": "3kaksUlCe1LG"
      }
    },
    {
      "cell_type": "code",
      "source": [
        " # Class demonstrating classmethod and staticmethod\n",
        " class MathOperations:\n",
        "    @classmethod\n",
        "    def add_numbers(cls, a, b):\n",
        "        return a + b\n",
        "    @staticmethod\n",
        "    def subtract_numbers(a, b):\n",
        "        return a - b\n",
        " print(\"Addition:\", MathOperations.add_numbers(10, 5))\n",
        " print(\"Subtraction:\", MathOperations.subtract_numbers(10, 5))"
      ],
      "metadata": {
        "colab": {
          "base_uri": "https://localhost:8080/"
        },
        "id": "lqqH3kwOe18E",
        "outputId": "1e2ef6bc-fd77-4e67-982b-c7fc476f8b04"
      },
      "execution_count": 18,
      "outputs": [
        {
          "output_type": "stream",
          "name": "stdout",
          "text": [
            "Addition: 15\n",
            "Subtraction: 5\n"
          ]
        }
      ]
    },
    {
      "cell_type": "markdown",
      "source": [
        " 8. Implement a class Person with a class method to count the total number of persons created."
      ],
      "metadata": {
        "id": "eR-wgE0rfLPD"
      }
    },
    {
      "cell_type": "code",
      "source": [
        " # Class demonstrating counting instances using class method\n",
        " class Person:\n",
        "    count = 0  # Class variable to track number of persons\n",
        "    def __init__(self, name):\n",
        "        self.name = name\n",
        "        Person.count += 1\n",
        "    @classmethod\n",
        "    def total_persons(cls):\n",
        "        return cls.count\n",
        " p1 = Person(\"Ritesh\")\n",
        " p2 = Person(\"Aditi\")\n",
        " p3 = Person(\"Anshu\")\n",
        " print(\"Total persons created:\", Person.total_persons())"
      ],
      "metadata": {
        "colab": {
          "base_uri": "https://localhost:8080/"
        },
        "id": "Yqr161sAfQhN",
        "outputId": "8953e264-7b37-457a-a1b6-1b780c61cae7"
      },
      "execution_count": 19,
      "outputs": [
        {
          "output_type": "stream",
          "name": "stdout",
          "text": [
            "Total persons created: 3\n"
          ]
        }
      ]
    },
    {
      "cell_type": "markdown",
      "source": [
        " 9. Write a class Fraction with attributes numerator and denominator. Override the str\n",
        " method to display the fraction as \"numerator/denominator\"."
      ],
      "metadata": {
        "id": "nMmnYUtvfVaA"
      }
    },
    {
      "cell_type": "code",
      "source": [
        " # Class demonstrating __str__ method\n",
        " class Fraction:\n",
        "    def __init__(self, numerator, denominator):\n",
        "        self.numerator = numerator\n",
        "        self.denominator = denominator\n",
        "    def __str__(self):\n",
        "        return f\"{self.numerator}/{self.denominator}\"\n",
        " f = Fraction(3, 4)\n",
        " print(f)"
      ],
      "metadata": {
        "colab": {
          "base_uri": "https://localhost:8080/"
        },
        "id": "-Q03gL5_fc0n",
        "outputId": "acf02de5-351b-4317-ad6b-57e59fe9a2c7"
      },
      "execution_count": 20,
      "outputs": [
        {
          "output_type": "stream",
          "name": "stdout",
          "text": [
            "3/4\n"
          ]
        }
      ]
    },
    {
      "cell_type": "markdown",
      "source": [
        " 10. Demonstrate operator overloading by creating a class Vector and overriding the\n",
        " add method to add two vectors"
      ],
      "metadata": {
        "id": "bqIG_EuQfjYc"
      }
    },
    {
      "cell_type": "code",
      "source": [
        " # Class demonstrating operator overloading\n",
        " class Vector:\n",
        "    def __init__(self, x, y):\n",
        "        self.x = x\n",
        "        self.y = y\n",
        "    # Overloading the + operator\n",
        "    def __add__(self, other):\n",
        "        return Vector(self.x + other.x, self.y + other.y)\n",
        "    def __str__(self):\n",
        "        return f\"({self.x}, {self.y})\"\n",
        " v1 = Vector(2, 3)\n",
        " v2 = Vector(4, 5)\n",
        " v3 = v1 + v2\n",
        " print(\"Vector addition:\", v3)"
      ],
      "metadata": {
        "colab": {
          "base_uri": "https://localhost:8080/"
        },
        "id": "r6tETUO7fkKW",
        "outputId": "9f89979c-4972-45a8-889a-1ac0145b2061"
      },
      "execution_count": 21,
      "outputs": [
        {
          "output_type": "stream",
          "name": "stdout",
          "text": [
            "Vector addition: (6, 8)\n"
          ]
        }
      ]
    },
    {
      "cell_type": "markdown",
      "source": [
        "11. Create a class Person with attributes name and age. Add a method greet() that\n",
        " prints \"Hello, my name is {name} and I am {age} years old.\""
      ],
      "metadata": {
        "id": "LWK-xxGtfn9e"
      }
    },
    {
      "cell_type": "code",
      "source": [
        " # Simple class with instance attributes and method\n",
        " class Person:\n",
        "    def __init__(self, name, age):\n",
        "        self.name = name\n",
        "        self.age = age\n",
        "    def greet(self):\n",
        "        print(f\"Hello, my name is {self.name} and I am {self.age} years old.\")\n",
        " # Testing\n",
        " p = Person(\"Ritesh\", 21)\n",
        " p1 = Person(\"Aditi\",20)\n",
        " p.greet()\n",
        " p1.greet()"
      ],
      "metadata": {
        "colab": {
          "base_uri": "https://localhost:8080/"
        },
        "id": "-bb3JOCqfqs7",
        "outputId": "79c65e10-fe69-4cdc-f4c4-9c234a2105a2"
      },
      "execution_count": 22,
      "outputs": [
        {
          "output_type": "stream",
          "name": "stdout",
          "text": [
            "Hello, my name is Ritesh and I am 21 years old.\n",
            "Hello, my name is Aditi and I am 20 years old.\n"
          ]
        }
      ]
    },
    {
      "cell_type": "markdown",
      "source": [
        "12. Implement a class Student with attributes name and grades. Create a method\n",
        " average_grade() to compute the average of the grades"
      ],
      "metadata": {
        "id": "bMZlLVCnfuKV"
      }
    },
    {
      "cell_type": "code",
      "source": [
        " # Class demonstrating method to calculate average\n",
        " class Student:\n",
        "    def __init__(self, name, grades):\n",
        "        self.name = name\n",
        "        self.grades = grades  # List of grades\n",
        "    def average_grade(self):\n",
        "        return sum(self.grades) / len(self.grades) if self.grades else 0\n",
        " s = Student(\"Ritesh\", [85, 90, 78, 92])\n",
        " print(\"Average grade:\", s.average_grade())"
      ],
      "metadata": {
        "colab": {
          "base_uri": "https://localhost:8080/"
        },
        "id": "POOVZDtHfzls",
        "outputId": "8b24216e-2167-4d86-ec68-9137bd228748"
      },
      "execution_count": 23,
      "outputs": [
        {
          "output_type": "stream",
          "name": "stdout",
          "text": [
            "Average grade: 86.25\n"
          ]
        }
      ]
    },
    {
      "cell_type": "markdown",
      "source": [
        "13. Create a class Rectangle with methods set_dimensions() to set the dimensions\n",
        " and area() to calculate the area."
      ],
      "metadata": {
        "id": "NAkLgI3hf5rJ"
      }
    },
    {
      "cell_type": "code",
      "source": [
        " # Rectangle class with set_dimensions and area methods\n",
        " class Rectangle:\n",
        "    def set_dimensions(self, length, width):\n",
        "        self.length = length\n",
        "        self.width = width\n",
        "    def area(self):\n",
        "        return self.length * self.width\n",
        " # Testing\n",
        " rect = Rectangle()\n",
        " rect.set_dimensions(5, 3)\n",
        " print(\"Area of rectangle:\", rect.area())"
      ],
      "metadata": {
        "colab": {
          "base_uri": "https://localhost:8080/"
        },
        "id": "o2jkPaNogH8C",
        "outputId": "4a75ee55-02d6-494d-ffd3-1e7f9bdad33e"
      },
      "execution_count": 24,
      "outputs": [
        {
          "output_type": "stream",
          "name": "stdout",
          "text": [
            "Area of rectangle: 15\n"
          ]
        }
      ]
    },
    {
      "cell_type": "markdown",
      "source": [
        "14. Create a class Employee with a method calculate_salary() that computes the\n",
        " salary based on hours worked and hourly rate. Create a derived class Manager that\n",
        " adds a bonus to the salary"
      ],
      "metadata": {
        "id": "xQU-_jm_gT5P"
      }
    },
    {
      "cell_type": "code",
      "source": [
        " # Base class\n",
        " class Employee:\n",
        "    def __init__(self, name, hours_worked, hourly_rate):\n",
        "        self.name = name\n",
        "        self.hours_worked = hours_worked\n",
        "        self.hourly_rate = hourly_rate\n",
        "    def calculate_salary(self):\n",
        "        return self.hours_worked * self.hourly_rate\n",
        " # Derived class\n",
        " class Manager(Employee):\n",
        "    def __init__(self, name, hours_worked, hourly_rate, bonus):\n",
        "        super().__init__(name, hours_worked, hourly_rate)\n",
        "        self.bonus = bonus\n",
        "    def calculate_salary(self):\n",
        "        return super().calculate_salary() + self.bonus\n",
        " # Testing\n",
        " emp = Employee(\"Ritesh\", 40, 20)\n",
        " mgr = Manager(\"Aditi\", 40, 20, 500)\n",
        " print(\"Employee salary:\", emp.calculate_salary())\n",
        " print(\"Manager salary:\", mgr.calculate_salary())"
      ],
      "metadata": {
        "colab": {
          "base_uri": "https://localhost:8080/"
        },
        "id": "wuB9dYSigVKL",
        "outputId": "e052904d-e4bd-4232-f3da-74ccb04c42f9"
      },
      "execution_count": 25,
      "outputs": [
        {
          "output_type": "stream",
          "name": "stdout",
          "text": [
            "Employee salary: 800\n",
            "Manager salary: 1300\n"
          ]
        }
      ]
    },
    {
      "cell_type": "markdown",
      "source": [
        "15. Create a class Product with attributes name, price, and quantity. Implement a\n",
        " method total_price() that calculates the total price of the product."
      ],
      "metadata": {
        "id": "ge2oJTCngaGV"
      }
    },
    {
      "cell_type": "code",
      "source": [
        " class Product:\n",
        "    def __init__(self, name, price, quantity):\n",
        "        self.name = name\n",
        "        self.price = price\n",
        "        self.quantity = quantity\n",
        "    def total_price(self):\n",
        "        return self.price * self.quantity\n",
        " # Testing\n",
        " p = Product(\"Laptop\", 500, 3)\n",
        " print(\"Total price:\", p.total_price())"
      ],
      "metadata": {
        "colab": {
          "base_uri": "https://localhost:8080/"
        },
        "id": "n-L3LJmVgdRW",
        "outputId": "abe48b26-5a6f-4c3d-9139-b01b945c6b79"
      },
      "execution_count": 26,
      "outputs": [
        {
          "output_type": "stream",
          "name": "stdout",
          "text": [
            "Total price: 1500\n"
          ]
        }
      ]
    },
    {
      "cell_type": "markdown",
      "source": [
        "16. Create a class Animal with an abstract method sound(). Create two derived\n",
        " classes Cow and Sheep that implement the sound() method."
      ],
      "metadata": {
        "id": "pCMo2Ei9glqG"
      }
    },
    {
      "cell_type": "code",
      "source": [
        " from abc import ABC, abstractmethod\n",
        " # Abstract class\n",
        " class Animal(ABC):\n",
        "    @abstractmethod\n",
        "    def sound(self):\n",
        "        pass\n",
        " # Derived class Cow\n",
        " class Cow(Animal):\n",
        "    def sound(self):\n",
        "        print(\"Moo\")\n",
        " # Derived class Sheep\n",
        " class Sheep(Animal):\n",
        "    def sound(self):\n",
        "        print(\"Baa\")\n",
        " cow = Cow()\n",
        " sheep = Sheep()\n",
        " cow.sound()\n",
        " sheep.sound()"
      ],
      "metadata": {
        "colab": {
          "base_uri": "https://localhost:8080/"
        },
        "id": "AkWHCW-Zgrqb",
        "outputId": "33358aeb-be95-491f-e822-b597950b1bb7"
      },
      "execution_count": 27,
      "outputs": [
        {
          "output_type": "stream",
          "name": "stdout",
          "text": [
            "Moo\n",
            "Baa\n"
          ]
        }
      ]
    },
    {
      "cell_type": "markdown",
      "source": [
        " 17. Create a class Book with attributes title, author, and year_published. Add a\n",
        " method get_book_info() that returns a formatted string with the book's details"
      ],
      "metadata": {
        "id": "vh5NdVr6gwA4"
      }
    },
    {
      "cell_type": "code",
      "source": [
        " # Book class with get_book_info method\n",
        " class Book:\n",
        "    def __init__(self, title, author, year_published):\n",
        "        self.title = title\n",
        "        self.author = author\n",
        "        self.year_published = year_published\n",
        "    def get_book_info(self):\n",
        "        return f\"'{self.title}' by {self.author}, published in {self.year_published}\"\n",
        " b = Book(\"1984\", \"George Orwell\", 1949)\n",
        " print(b.get_book_info())"
      ],
      "metadata": {
        "colab": {
          "base_uri": "https://localhost:8080/"
        },
        "id": "7kV_QJNNgzOZ",
        "outputId": "fc81ad68-986a-4ccc-e110-9887e288106b"
      },
      "execution_count": 28,
      "outputs": [
        {
          "output_type": "stream",
          "name": "stdout",
          "text": [
            "'1984' by George Orwell, published in 1949\n"
          ]
        }
      ]
    },
    {
      "cell_type": "markdown",
      "source": [
        "18. Create a class House with attributes address and price. Create a derived class\n",
        " Mansion that adds an attribute number_of_rooms."
      ],
      "metadata": {
        "id": "zATEzJCDg-9m"
      }
    },
    {
      "cell_type": "code",
      "source": [
        " # Parent class\n",
        " class House:\n",
        "    def __init__(self, address, price):\n",
        "        self.address = address\n",
        "        self.price = price\n",
        " # Derived class\n",
        " class Mansion(House):\n",
        "    def __init__(self, address, price, number_of_rooms):\n",
        "        super().__init__(address, price)\n",
        "        self.number_of_rooms = number_of_rooms\n",
        "         # Testing\n",
        " m = Mansion(\"123 Luxury St\", 500000, 8)\n",
        " print(\"Address:\", m.address)\n",
        " print(\"Price:\", m.price)\n",
        " print(\"Number of rooms:\", m.number_of_rooms)"
      ],
      "metadata": {
        "colab": {
          "base_uri": "https://localhost:8080/"
        },
        "id": "1lL6Bt_Zg_4Q",
        "outputId": "86793db5-e6ec-4711-cfe4-7de1fd3209b4"
      },
      "execution_count": 29,
      "outputs": [
        {
          "output_type": "stream",
          "name": "stdout",
          "text": [
            "Address: 123 Luxury St\n",
            "Price: 500000\n",
            "Number of rooms: 8\n"
          ]
        }
      ]
    }
  ]
}